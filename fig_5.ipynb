{
 "cells": [
  {
   "cell_type": "markdown",
   "metadata": {},
   "source": [
    "### OPERATORNORM WITHOUT ADJOINT \n",
    "\n",
    "- Creator:  Jonas Bresch, M.Sc\n",
    "- Date: February 14rd, 2025"
   ]
  },
  {
   "cell_type": "code",
   "execution_count": null,
   "metadata": {},
   "outputs": [],
   "source": [
    "import numpy as np\n",
    "import matplotlib.pyplot as plt\n",
    "import scipy as sc\n",
    "\n",
    "import imp"
   ]
  },
  {
   "cell_type": "code",
   "execution_count": null,
   "metadata": {},
   "outputs": [],
   "source": [
    "import adjointfreenorm\n",
    "imp.reload(adjointfreenorm)"
   ]
  },
  {
   "cell_type": "markdown",
   "metadata": {},
   "source": [
    "### Experiments"
   ]
  },
  {
   "cell_type": "code",
   "execution_count": null,
   "metadata": {},
   "outputs": [],
   "source": [
    "for k in range(50):\n",
    "    print(f'Run # {k}:')\n",
    "    A = np.random.randn(50, 100)\n",
    "    V = np.random.randn(100, 50)\n",
    "    iter = 5000\n",
    "    output = 50\n",
    "    _, _, vu_sol, _, _, _, _, _, _, _, _, _, listapprox_a_min, _ = adjointfreenorm.MatFreeAdjOpNormDouble(A, V, iter=iter, eps=1e-10, show=0)\n",
    "    plt.plot(np.arange(0,iter,output),listapprox_a_min[::output]/np.abs(vu_sol)**2, linewidth=0.5, c='b',alpha=0.4)\n",
    "    plt.rc('text', usetex=True)\n",
    "plt.rc('font', family='serif')\n",
    "plt.semilogy()\n",
    "plt.savefig('eigenvalue_equation_50_100.pdf')"
   ]
  },
  {
   "cell_type": "code",
   "execution_count": null,
   "metadata": {},
   "outputs": [],
   "source": [
    "for k in range(50):\n",
    "    A = np.random.randn(100, 50)\n",
    "    V = np.random.randn(50, 100)\n",
    "    iter = 5000\n",
    "    output = 50\n",
    "    _, _, vu_sol, _, _, _, _, _, _, _, _, _, listapprox_a_min, _ = adjointfreenorm.MatFreeAdjOpNormDouble(A, V, iter=iter, eps=1e-10, show=0)\n",
    "    plt.plot(np.arange(0,iter,output),listapprox_a_min[::output]/np.abs(vu_sol)**2, linewidth=0.5, c='b',alpha=0.4)\n",
    "    plt.rc('text', usetex=True)\n",
    "plt.rc('font', family='serif')\n",
    "plt.semilogy()\n",
    "plt.savefig('eigenvalue_equation_100_50.pdf', dpi=100)"
   ]
  },
  {
   "cell_type": "code",
   "execution_count": null,
   "metadata": {},
   "outputs": [],
   "source": []
  }
 ],
 "metadata": {
  "kernelspec": {
   "display_name": "Python 3 (ipykernel)",
   "language": "python",
   "name": "python3"
  },
  "language_info": {
   "codemirror_mode": {
    "name": "ipython",
    "version": 3
   },
   "file_extension": ".py",
   "mimetype": "text/x-python",
   "name": "python",
   "nbconvert_exporter": "python",
   "pygments_lexer": "ipython3",
   "version": "3.10.12"
  }
 },
 "nbformat": 4,
 "nbformat_minor": 4
}
