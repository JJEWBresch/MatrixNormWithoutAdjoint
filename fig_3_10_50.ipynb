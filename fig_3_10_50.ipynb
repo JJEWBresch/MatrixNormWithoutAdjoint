{
 "cells": [
  {
   "cell_type": "markdown",
   "metadata": {},
   "source": [
    "### OPERATORNORM WITHOUT ADJOINT \n",
    "\n",
    "- Creator:  Jonas Bresch, M.Sc\n",
    "- Date: February 14rd, 2025"
   ]
  },
  {
   "cell_type": "code",
   "execution_count": null,
   "metadata": {},
   "outputs": [],
   "source": [
    "import numpy as np\n",
    "import matplotlib.pyplot as plt\n",
    "import scipy as sc\n",
    "\n",
    "import imp"
   ]
  },
  {
   "cell_type": "code",
   "execution_count": null,
   "metadata": {},
   "outputs": [],
   "source": [
    "import adjointfreenorm\n",
    "imp.reload(adjointfreenorm)"
   ]
  },
  {
   "cell_type": "markdown",
   "metadata": {},
   "source": [
    "### Figure 3 - 10x50"
   ]
  },
  {
   "cell_type": "code",
   "execution_count": null,
   "metadata": {},
   "outputs": [],
   "source": [
    "fig, axs = plt.subplots(3, 1, figsize=(5,10), gridspec_kw={'height_ratios': [3, 1, 1]})\n",
    "for k in range(50):\n",
    "    A = np.random.randn(10,50)\n",
    "    V = np.random.randn(50,10)\n",
    "    iter = 2000\n",
    "    output = 10\n",
    "    _, _, vu_sol_o, _, _, vvvual_o, _, lista_uv_o, _ = adjointfreenorm.MatFreeAdjOpNorm(A=A, V=V, iter=iter, eps=1e-10, show=0)\n",
    "    _, _, vu_sol, _, _, vuval, _, _, listbc_uv, _, _, _, _, _ = adjointfreenorm.MatFreeAdjOpNormDouble(A=A, V=V, iter=iter, eps=1e-10, show=0)\n",
    "    axs[0].plot(np.arange(0,iter+1,output),(vu_sol_o-np.abs(vvvual_o[::output]))/vu_sol_o, linewidth=0.2, c='b')\n",
    "    axs[0].plot(np.arange(0,iter+1,output),(vu_sol-np.abs(vuval[::output]))/vu_sol, linewidth=0.2, c='orange')\n",
    "    axs[0].semilogy()\n",
    "    axs[1].plot(np.arange(0,iter,output),lista_uv_o[::output], linewidth=0.2, c='b')\n",
    "    axs[2].plot(np.arange(0,iter,output),listbc_uv[::output], linewidth=0.2, c='orange')\n",
    "    plt.setp(axs, xticks=[0, 1000, 2000], xticklabels=['0', '1000', '2000'])\n",
    "    plt.rc('text', usetex=True)\n",
    "plt.rc('font', family='serif')\n",
    "plt.savefig('gaussian_matrices_10_50.pdf', dpi=100)\n",
    "plt.show()"
   ]
  }
 ],
 "metadata": {
  "kernelspec": {
   "display_name": "Python 3 (ipykernel)",
   "language": "python",
   "name": "python3"
  },
  "language_info": {
   "codemirror_mode": {
    "name": "ipython",
    "version": 3
   },
   "file_extension": ".py",
   "mimetype": "text/x-python",
   "name": "python",
   "nbconvert_exporter": "python",
   "pygments_lexer": "ipython3",
   "version": "3.10.12"
  }
 },
 "nbformat": 4,
 "nbformat_minor": 4
}
