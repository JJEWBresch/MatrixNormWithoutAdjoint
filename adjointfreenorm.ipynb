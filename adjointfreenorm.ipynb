{
 "cells": [
  {
   "cell_type": "markdown",
   "metadata": {},
   "source": [
    "### OPERATORNORM WITHOUT ADJOINT \n",
    "\n",
    "- Creator:  Jonas Bresch, M.Sc\n",
    "- Date: February 14rd, 2025"
   ]
  },
  {
   "cell_type": "code",
   "execution_count": 1,
   "metadata": {},
   "outputs": [
    {
     "name": "stderr",
     "output_type": "stream",
     "text": [
      "/var/folders/x8/2j6ym0tn7x18f9h9pmv136mc0000gn/T/ipykernel_45514/852982894.py:5: DeprecationWarning: the imp module is deprecated in favour of importlib and slated for removal in Python 3.12; see the module's documentation for alternative uses\n",
      "  import imp\n"
     ]
    }
   ],
   "source": [
    "import numpy as np\n",
    "import matplotlib.pyplot as plt\n",
    "import scipy as sc\n",
    "\n",
    "import imp"
   ]
  },
  {
   "cell_type": "code",
   "execution_count": 2,
   "metadata": {},
   "outputs": [
    {
     "data": {
      "text/plain": [
       "<module 'adjointfreenorm' from '/Users/jonasbresch/Desktop/operator_missmatch/finale/adjointfreenorm.py'>"
      ]
     },
     "execution_count": 2,
     "metadata": {},
     "output_type": "execute_result"
    }
   ],
   "source": [
    "import adjointfreenorm\n",
    "imp.reload(adjointfreenorm)"
   ]
  },
  {
   "cell_type": "markdown",
   "metadata": {},
   "source": [
    "### DATA"
   ]
  },
  {
   "cell_type": "code",
   "execution_count": 3,
   "metadata": {},
   "outputs": [],
   "source": [
    "#\n",
    "# random matrix\n",
    "#\n",
    "\n",
    "A = np.random.randn(50, 100)\n",
    "V = np.random.randn(100, 50)"
   ]
  },
  {
   "cell_type": "code",
   "execution_count": 4,
   "metadata": {},
   "outputs": [],
   "source": [
    "#\n",
    "# random orthogonal matrix\n",
    "#\n",
    "\n",
    "n = 100\n",
    "H = np.random.randn(n, n)\n",
    "Q, R = sc.linalg.qr(H)\n",
    "Aort = Q.dot(Q.T)"
   ]
  },
  {
   "cell_type": "markdown",
   "metadata": {},
   "source": [
    "### Algorithms\n",
    "    - MatFreeAdjNorm for computing ||A|| from Bresch, Lorenz, Schneppe, Winkler (2024)\n",
    "    - MatFreeAdjOpNormDouble for computing ||A - V|| with two stepsizes\n",
    "    - MatFreeAdjOpNorm for computing ||A - V|| with one stepsize"
   ]
  },
  {
   "cell_type": "code",
   "execution_count": 5,
   "metadata": {},
   "outputs": [
    {
     "name": "stdout",
     "output_type": "stream",
     "text": [
      "iter. \t| func-value \t| residuum  \t| sing-vec-error\n",
      "72490 \t|  2.716e+02 \t|  5.571e-12 \t|  2.054e-14\n",
      "||A|| =  16.480497028552307\n"
     ]
    }
   ],
   "source": [
    "vv, optvv, vvsol, vvval, listtau, lista, listerror = adjointfreenorm.MatFreeAdjNorm(\n",
    "    A=A, \n",
    "    # A=Aort,\n",
    "    iter=100000, \n",
    "    eps=1e-10, \n",
    "    nor=1, \n",
    "    show=0)"
   ]
  },
  {
   "cell_type": "code",
   "execution_count": 6,
   "metadata": {},
   "outputs": [
    {
     "name": "stdout",
     "output_type": "stream",
     "text": [
      "iter. \t| func-value \t| residuum \t| sing-vec-error\n",
      "19711 \t|  2.359e+01 \t|  9.399e-11 \t|  2.975e-14\n",
      "||A|| =  23.588531330870616\n"
     ]
    }
   ],
   "source": [
    "u, v, vu_sol, optu, optv, val, listtau_uv, listabcd_uv, listbc_uv, listerror_uv, listapprox_norm, listapprox_a, listapprox_a_min, listapprox_sig = adjointfreenorm.MatFreeAdjOpNormDouble(\n",
    "    A=A, \n",
    "    V=V,        # optinal argument, if it is left free, we compute just ||A||\n",
    "    # V=A.T, \n",
    "    iter=100000, \n",
    "    eps=1e-7, \n",
    "    show=0)"
   ]
  },
  {
   "cell_type": "code",
   "execution_count": 8,
   "metadata": {},
   "outputs": [
    {
     "name": "stdout",
     "output_type": "stream",
     "text": [
      "iter \t| func-value \t| residuum  \t| sing-vec-error\n",
      "200000 \t|  2.359e+01 \t|  4.700e-12 \t|  2.293e-07\n",
      "||A|| =  23.58853133095991\n"
     ]
    }
   ],
   "source": [
    "u_o, v_o, vu_sol_o, optu_o, optv_o, vvvual_o, listtau_uv_o, lista_uv_o, listerror_uv_o = adjointfreenorm.MatFreeAdjOpNorm(\n",
    "    A=A, \n",
    "    V=V,        # optinal argument, if it is left free, we compute just ||A||\n",
    "    # V=A.T, \n",
    "    iter=200000, \n",
    "    eps=1e-11,\n",
    "    show=0)"
   ]
  },
  {
   "cell_type": "code",
   "execution_count": null,
   "metadata": {},
   "outputs": [],
   "source": []
  }
 ],
 "metadata": {
  "kernelspec": {
   "display_name": "Python 3",
   "language": "python",
   "name": "python3"
  },
  "language_info": {
   "codemirror_mode": {
    "name": "ipython",
    "version": 3
   },
   "file_extension": ".py",
   "mimetype": "text/x-python",
   "name": "python",
   "nbconvert_exporter": "python",
   "pygments_lexer": "ipython3",
   "version": "3.11.9"
  }
 },
 "nbformat": 4,
 "nbformat_minor": 2
}
