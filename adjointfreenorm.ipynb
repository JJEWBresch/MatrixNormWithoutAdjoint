{
 "cells": [
  {
   "cell_type": "markdown",
   "metadata": {},
   "source": [
    "### OPERATORNORM WITHOUT ADJOINT \n",
    "\n",
    "- Creator:  Jonas Bresch, M.Sc\n",
    "- Date: February 14rd, 2025"
   ]
  },
  {
   "cell_type": "code",
   "execution_count": 240,
   "metadata": {},
   "outputs": [],
   "source": [
    "import numpy as np\n",
    "import matplotlib.pyplot as plt\n",
    "import scipy as sc\n",
    "\n",
    "import imp"
   ]
  },
  {
   "cell_type": "code",
   "execution_count": 241,
   "metadata": {},
   "outputs": [
    {
     "data": {
      "text/plain": [
       "<module 'adjointfreenorm' from '/Users/jonasbresch/Desktop/operator_missmatch/finale/adjointfreenorm.py'>"
      ]
     },
     "execution_count": 241,
     "metadata": {},
     "output_type": "execute_result"
    }
   ],
   "source": [
    "import adjointfreenorm\n",
    "imp.reload(adjointfreenorm)"
   ]
  },
  {
   "cell_type": "markdown",
   "metadata": {},
   "source": [
    "### DATA"
   ]
  },
  {
   "cell_type": "code",
   "execution_count": 246,
   "metadata": {},
   "outputs": [],
   "source": [
    "#\n",
    "# random matrix\n",
    "#\n",
    "\n",
    "A = np.random.randn(10, 50)\n",
    "V = np.random.randn(50, 10)"
   ]
  },
  {
   "cell_type": "code",
   "execution_count": 232,
   "metadata": {},
   "outputs": [],
   "source": [
    "#\n",
    "# random orthogonal matrix\n",
    "#\n",
    "\n",
    "n = 100\n",
    "H = np.random.randn(n, n)\n",
    "Q, R = sc.linalg.qr(H)\n",
    "Aort = Q.dot(Q.T)"
   ]
  },
  {
   "cell_type": "code",
   "execution_count": 233,
   "metadata": {},
   "outputs": [],
   "source": [
    "#\n",
    "# two examples, giving the illustration in Fig.2\n",
    "#   -> Alg.2 (two stepsizes) converges in exact one iteration, every time\n",
    "#   -> Alg.1 (one stepsizes) does NOT converge necessarly in one iteration.\n",
    "#\n",
    "\n",
    "A = np.array([[1,0], [0,0]])\n",
    "A = np.array([[1,0], [0,1], [0,0]])"
   ]
  },
  {
   "cell_type": "markdown",
   "metadata": {},
   "source": [
    "### Algorithms\n",
    "    - MatFreeAdjNorm for computing ||A|| from Bresch, Lorenz, Schneppe, Winkler (2024)\n",
    "    - MatFreeAdjOpNormDouble for computing ||A - V|| with two stepsizes\n",
    "    - MatFreeAdjOpNorm for computing ||A - V|| with one stepsize"
   ]
  },
  {
   "cell_type": "code",
   "execution_count": 247,
   "metadata": {},
   "outputs": [
    {
     "name": "stdout",
     "output_type": "stream",
     "text": [
      "iter. \t| func-value \t| residuum  \t| sing-vec-error\n",
      "3609 \t|  8.150e+01 \t|  2.274e-13 \t|  2.776e-15\n",
      "||A|| =  9.027786305789062\n"
     ]
    }
   ],
   "source": [
    "vv, optvv, vvsol, vvval, listtau, lista, listerror = adjointfreenorm.MatFreeAdjNorm(\n",
    "    A=A, \n",
    "    # A=Aort,\n",
    "    iter=100000, \n",
    "    eps=1e-10, \n",
    "    nor=1, \n",
    "    show=0)"
   ]
  },
  {
   "cell_type": "code",
   "execution_count": 248,
   "metadata": {},
   "outputs": [
    {
     "name": "stdout",
     "output_type": "stream",
     "text": [
      "iter. \t| func-value \t| residuum \t| sing-vec-error\n",
      "2985 \t|  9.028e+00 \t|  2.659e-11 \t|  1.044e-14\n",
      "||A|| =  9.027786305762495\n"
     ]
    }
   ],
   "source": [
    "u, v, vu_sol, optu, optv, val, listtau_uv, listabcd_uv, listbc_uv, listerror_uv, listapprox_norm, listapprox_a, listapprox_a_min, listapprox_sig = adjointfreenorm.MatFreeAdjOpNormDouble(\n",
    "    A=A, \n",
    "    # V=V,        # optional argument, if it is left free, we compute just ||A||\n",
    "    # V=A.T, \n",
    "    iter=100000, \n",
    "    eps=1e-7, \n",
    "    show=0)"
   ]
  },
  {
   "cell_type": "code",
   "execution_count": 249,
   "metadata": {},
   "outputs": [
    {
     "name": "stdout",
     "output_type": "stream",
     "text": [
      "iter \t| func-value \t| residuum  \t| sing-vec-error\n",
      "19999 \t|  9.028e+00 \t|  1.421e-13 \t|  4.240e-08\n",
      "||A|| =  9.027786305788931\n"
     ]
    }
   ],
   "source": [
    "u_o, v_o, vu_sol_o, optu_o, optv_o, vvvual_o, listtau_uv_o, lista_uv_o, listerror_uv_o = adjointfreenorm.MatFreeAdjOpNorm(\n",
    "    A=A, \n",
    "    # V=V,        # optional argument, if it is left free, we compute just ||A||\n",
    "    # V=A.T, \n",
    "    iter=200000, \n",
    "    eps=1e-11,\n",
    "    show=0)"
   ]
  },
  {
   "cell_type": "code",
   "execution_count": null,
   "metadata": {},
   "outputs": [],
   "source": []
  }
 ],
 "metadata": {
  "kernelspec": {
   "display_name": "Python 3",
   "language": "python",
   "name": "python3"
  },
  "language_info": {
   "codemirror_mode": {
    "name": "ipython",
    "version": 3
   },
   "file_extension": ".py",
   "mimetype": "text/x-python",
   "name": "python",
   "nbconvert_exporter": "python",
   "pygments_lexer": "ipython3",
   "version": "3.11.9"
  }
 },
 "nbformat": 4,
 "nbformat_minor": 2
}
